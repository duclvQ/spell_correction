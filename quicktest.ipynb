{
 "cells": [
  {
   "cell_type": "code",
   "execution_count": null,
   "id": "ce06980a",
   "metadata": {},
   "outputs": [],
   "source": []
  },
  {
   "cell_type": "code",
   "execution_count": 17,
   "id": "ad8b3dfa",
   "metadata": {},
   "outputs": [
    {
     "name": "stdout",
     "output_type": "stream",
     "text": [
      "([{'op': 'replace', 'orig': 'x', 'repl': 'X', 'pos': (0, 1)}, {'op': 'delete', 'orig': ' ', 'repl': '', 'pos': (8, 9)}, {'op': 'delete', 'orig': '  ', 'repl': '', 'pos': (10, 12)}, {'op': 'delete', 'orig': '   ', 'repl': '', 'pos': (29, 32)}, {'op': 'replace', 'orig': 't', 'repl': 'T', 'pos': (38, 39)}], 'Xin chào! This is tesmore text. Toi la mot hoa si')\n"
     ]
    }
   ],
   "source": [
    "import re\n",
    "import difflib\n",
    "\n",
    "def clean_sentence(text):\n",
    "    if not text:\n",
    "        return text\n",
    "    \n",
    "    text = re.sub(r'\\s+', ' ', text)                         # bỏ space thừa\n",
    "    text = re.sub(r'\\s+([.,!?;:])', r'\\1', text)             # bỏ space trước dấu câu\n",
    "    text = re.sub(r'([.,!?;:])(?!\\s|$)', r'\\1 ', text)       # thêm space sau dấu câu\n",
    "    text = re.sub(r'\\s+([\\)\\]])', r'\\1', text)               # bỏ space trước ) ]\n",
    "    text = re.sub(r'([\\)\\]])(?![\\s.,!?;:])', r'\\1 ', text)   # thêm space sau ) ]\n",
    "    text = re.sub(r'\\.{2,}', '.', text)                      # nhiều dấu chấm -> 1\n",
    "    text = text[0].upper() + text[1:] if text else text      # viết hoa đầu câu\n",
    "    # after punctuation must be a space and capitalized\n",
    "    text = re.sub(r'([.,!?;:])\\s*(\\w)', lambda m: m.group(1) + ' ' + m.group(2).upper(), text)\n",
    "    # if not re.search(r'[.?!]$', text):                       # kết thúc bằng dấu câu\n",
    "    #     text += '.'\n",
    "    # text = text.replace(\"chào\", \"_\")\n",
    "    return text.strip()\n",
    "def split_into_sentences(text):\n",
    "    # split by . and add . back\n",
    "    sentences = re.split(r'(?<=[.!?]) +', text)\n",
    "    return sentences\n",
    "def frequency_check(clean_text):\n",
    "    pass \n",
    "\n",
    "\n",
    "\n",
    "def get_replacement_from_formatted_sentence(text):\n",
    "    cleaned = clean_sentence(text)\n",
    "    replacements = []\n",
    "    \n",
    "    matcher = difflib.SequenceMatcher(None, text, cleaned)\n",
    "    for tag, i1, i2, j1, j2 in matcher.get_opcodes():\n",
    "        if tag != \"equal\":\n",
    "            replacements.append({\n",
    "                \"op\": tag,              # replace / insert / delete\n",
    "                \"orig\": text[i1:i2],    # đoạn gốc\n",
    "                \"repl\": cleaned[j1:j2], # đoạn sửa\n",
    "                \"pos\": (i1, i2)         # vị trí trong text gốc\n",
    "            })\n",
    "    return replacements, cleaned\n",
    "\n",
    "# test\n",
    "s = \"xin chào !   This is tesmore    text. toi la mot hoa si\"\n",
    "print(get_replacement_from_formatted_sentence(s))\n"
   ]
  },
  {
   "cell_type": "code",
   "execution_count": 18,
   "id": "c04f1a1c",
   "metadata": {},
   "outputs": [
    {
     "data": {
      "text/plain": [
       "['xin chào !', 'This is tesmore    text.', 'toi la mot hoa si']"
      ]
     },
     "execution_count": 18,
     "metadata": {},
     "output_type": "execute_result"
    }
   ],
   "source": [
    "split_into_sentences(s)"
   ]
  },
  {
   "cell_type": "code",
   "execution_count": 8,
   "id": "87f9694c",
   "metadata": {},
   "outputs": [],
   "source": [
    "from symspellpy import SymSpell, Verbosity\n",
    "from symspellpy import SymSpell, Verbosity\n",
    "\n",
    "from symspellpy import SymSpell, Verbosity\n",
    "sym_spell = SymSpell(max_dictionary_edit_distance=10, prefix_length=17)\n",
    "dictionary_path = \"new_name_dict.txt\"\n",
    "sym_spell.load_dictionary(dictionary_path, term_index=0, count_index=1, encoding=\"utf-8\")\n",
    "\n",
    "def is_startwith_upper(word):\n",
    "    \"\"\"Check if the word starts with an uppercase letter\"\"\"\n",
    "    return word[0].isupper() if word else False\n",
    "def check_and_correct_word(word, distance=10):\n",
    "    \n",
    "    syllables = word.split(\" \")\n",
    "    # for i, syllable in enumerate(syllables):\n",
    "    #     if not is_startwith_upper(syllable):\n",
    "    #         return word, False, \"lowercase\"\n",
    "    word = word.strip().replace(\" \", \"_\").lower()\n",
    "    \n",
    "    suggestions = sym_spell.lookup(word, Verbosity.CLOSEST, max_edit_distance=distance)\n",
    "    if suggestions:\n",
    "        if word != suggestions[0].term:\n",
    "            return word, False, suggestions[0].term\n",
    "        else:\n",
    "            return word, True, suggestions[0].term\n",
    "\n",
    "    return word, True, \"not_found\"  # Return the original word if no suggestions found"
   ]
  },
  {
   "cell_type": "code",
   "execution_count": 14,
   "id": "5af3953e",
   "metadata": {},
   "outputs": [
    {
     "data": {
      "text/plain": [
       "('chủ_tịch_nước_luong_cuong', False, 'chủ_tịch_nước_lương_cường')"
      ]
     },
     "execution_count": 14,
     "metadata": {},
     "output_type": "execute_result"
    }
   ],
   "source": [
    "check_and_correct_word(\"chủ tịch nước luong cuong\")"
   ]
  },
  {
   "cell_type": "code",
   "execution_count": null,
   "id": "8032f2ac",
   "metadata": {},
   "outputs": [],
   "source": []
  }
 ],
 "metadata": {
  "kernelspec": {
   "display_name": "base",
   "language": "python",
   "name": "python3"
  },
  "language_info": {
   "codemirror_mode": {
    "name": "ipython",
    "version": 3
   },
   "file_extension": ".py",
   "mimetype": "text/x-python",
   "name": "python",
   "nbconvert_exporter": "python",
   "pygments_lexer": "ipython3",
   "version": "3.13.5"
  }
 },
 "nbformat": 4,
 "nbformat_minor": 5
}
