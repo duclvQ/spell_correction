{
 "cells": [
  {
   "cell_type": "code",
   "execution_count": null,
   "id": "ce06980a",
   "metadata": {},
   "outputs": [],
   "source": []
  },
  {
   "cell_type": "code",
   "execution_count": 17,
   "id": "ad8b3dfa",
   "metadata": {},
   "outputs": [
    {
     "name": "stdout",
     "output_type": "stream",
     "text": [
      "([{'op': 'replace', 'orig': 'x', 'repl': 'X', 'pos': (0, 1)}, {'op': 'delete', 'orig': ' ', 'repl': '', 'pos': (8, 9)}, {'op': 'delete', 'orig': '  ', 'repl': '', 'pos': (10, 12)}, {'op': 'delete', 'orig': '   ', 'repl': '', 'pos': (29, 32)}, {'op': 'replace', 'orig': 't', 'repl': 'T', 'pos': (38, 39)}], 'Xin chào! This is tesmore text. Toi la mot hoa si')\n"
     ]
    }
   ],
   "source": [
    "import re\n",
    "import difflib\n",
    "\n",
    "def clean_sentence(text):\n",
    "    if not text:\n",
    "        return text\n",
    "    \n",
    "    text = re.sub(r'\\s+', ' ', text)                         # bỏ space thừa\n",
    "    text = re.sub(r'\\s+([.,!?;:])', r'\\1', text)             # bỏ space trước dấu câu\n",
    "    text = re.sub(r'([.,!?;:])(?!\\s|$)', r'\\1 ', text)       # thêm space sau dấu câu\n",
    "    text = re.sub(r'\\s+([\\)\\]])', r'\\1', text)               # bỏ space trước ) ]\n",
    "    text = re.sub(r'([\\)\\]])(?![\\s.,!?;:])', r'\\1 ', text)   # thêm space sau ) ]\n",
    "    text = re.sub(r'\\.{2,}', '.', text)                      # nhiều dấu chấm -> 1\n",
    "    text = text[0].upper() + text[1:] if text else text      # viết hoa đầu câu\n",
    "    # after punctuation must be a space and capitalized\n",
    "    text = re.sub(r'([.,!?;:])\\s*(\\w)', lambda m: m.group(1) + ' ' + m.group(2).upper(), text)\n",
    "    # if not re.search(r'[.?!]$', text):                       # kết thúc bằng dấu câu\n",
    "    #     text += '.'\n",
    "    # text = text.replace(\"chào\", \"_\")\n",
    "    return text.strip()\n",
    "def split_into_sentences(text):\n",
    "    # split by . and add . back\n",
    "    sentences = re.split(r'(?<=[.!?]) +', text)\n",
    "    return sentences\n",
    "def frequency_check(clean_text):\n",
    "    pass \n",
    "\n",
    "\n",
    "\n",
    "def get_replacement_from_formatted_sentence(text):\n",
    "    cleaned = clean_sentence(text)\n",
    "    replacements = []\n",
    "    \n",
    "    matcher = difflib.SequenceMatcher(None, text, cleaned)\n",
    "    for tag, i1, i2, j1, j2 in matcher.get_opcodes():\n",
    "        if tag != \"equal\":\n",
    "            replacements.append({\n",
    "                \"op\": tag,              # replace / insert / delete\n",
    "                \"orig\": text[i1:i2],    # đoạn gốc\n",
    "                \"repl\": cleaned[j1:j2], # đoạn sửa\n",
    "                \"pos\": (i1, i2)         # vị trí trong text gốc\n",
    "            })\n",
    "    return replacements, cleaned\n",
    "\n",
    "# test\n",
    "s = \"xin chào !   This is tesmore    text. toi la mot hoa si\"\n",
    "print(get_replacement_from_formatted_sentence(s))\n"
   ]
  },
  {
   "cell_type": "code",
   "execution_count": 18,
   "id": "c04f1a1c",
   "metadata": {},
   "outputs": [
    {
     "data": {
      "text/plain": [
       "['xin chào !', 'This is tesmore    text.', 'toi la mot hoa si']"
      ]
     },
     "execution_count": 18,
     "metadata": {},
     "output_type": "execute_result"
    }
   ],
   "source": [
    "split_into_sentences(s)"
   ]
  },
  {
   "cell_type": "code",
   "execution_count": null,
   "id": "87f9694c",
   "metadata": {},
   "outputs": [],
   "source": []
  }
 ],
 "metadata": {
  "kernelspec": {
   "display_name": "base",
   "language": "python",
   "name": "python3"
  },
  "language_info": {
   "codemirror_mode": {
    "name": "ipython",
    "version": 3
   },
   "file_extension": ".py",
   "mimetype": "text/x-python",
   "name": "python",
   "nbconvert_exporter": "python",
   "pygments_lexer": "ipython3",
   "version": "3.13.5"
  }
 },
 "nbformat": 4,
 "nbformat_minor": 5
}
