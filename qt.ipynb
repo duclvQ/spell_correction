{
 "cells": [
  {
   "cell_type": "code",
   "execution_count": null,
   "id": "9f423e97",
   "metadata": {},
   "outputs": [],
   "source": []
  },
  {
   "cell_type": "code",
   "execution_count": 1,
   "id": "5d0f3516",
   "metadata": {},
   "outputs": [],
   "source": [
    "txt_path = \"vi_freq_dict.txt\"\n",
    "with open(txt_path, \"r\", encoding=\"utf-8\") as f:    \n",
    "    data = f.readlines()\n",
    "\n",
    "# Process the data\n",
    "new_vocab = []\n",
    "for line in data:\n",
    "    word, freq = line.strip().split()\n",
    "    word = word.lower()\n",
    "    new_vocab.append((word, int(freq)))\n",
    "# write to file\n",
    "\n",
    "with open(\"vi_freq_dict.txt\", \"w\", encoding=\"utf-8\") as f:\n",
    "    for word, freq in new_vocab:\n",
    "        f.write(f\"{word} {freq}\\n\")"
   ]
  },
  {
   "cell_type": "code",
   "execution_count": null,
   "id": "f05d4470",
   "metadata": {},
   "outputs": [],
   "source": []
  },
  {
   "cell_type": "code",
   "execution_count": null,
   "id": "b833af22",
   "metadata": {},
   "outputs": [],
   "source": []
  },
  {
   "cell_type": "code",
   "execution_count": null,
   "id": "0a9c2930",
   "metadata": {},
   "outputs": [],
   "source": []
  }
 ],
 "metadata": {
  "kernelspec": {
   "display_name": "base",
   "language": "python",
   "name": "python3"
  },
  "language_info": {
   "codemirror_mode": {
    "name": "ipython",
    "version": 3
   },
   "file_extension": ".py",
   "mimetype": "text/x-python",
   "name": "python",
   "nbconvert_exporter": "python",
   "pygments_lexer": "ipython3",
   "version": "3.13.5"
  }
 },
 "nbformat": 4,
 "nbformat_minor": 5
}
